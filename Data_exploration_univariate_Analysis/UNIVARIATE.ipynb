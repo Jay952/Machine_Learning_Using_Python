{
 "cells": [
  {
   "cell_type": "code",
   "execution_count": 1,
   "metadata": {},
   "outputs": [],
   "source": [
    "import pandas as pd"
   ]
  },
  {
   "cell_type": "code",
   "execution_count": 2,
   "metadata": {},
   "outputs": [],
   "source": [
    "import numpy as np"
   ]
  },
  {
   "cell_type": "code",
   "execution_count": 5,
   "metadata": {},
   "outputs": [],
   "source": [
    "import matplotlib.pyplot as plt\n"
   ]
  },
  {
   "cell_type": "code",
   "execution_count": 6,
   "metadata": {},
   "outputs": [],
   "source": [
    "df = pd.read_csv('chennai_house_price_prediction.csv')"
   ]
  },
  {
   "cell_type": "code",
   "execution_count": 7,
   "metadata": {},
   "outputs": [
    {
     "data": {
      "text/plain": [
       "(7109, 19)"
      ]
     },
     "execution_count": 7,
     "metadata": {},
     "output_type": "execute_result"
    }
   ],
   "source": [
    "df.shape"
   ]
  },
  {
   "cell_type": "code",
   "execution_count": 8,
   "metadata": {},
   "outputs": [
    {
     "data": {
      "text/html": [
       "<div>\n",
       "<style scoped>\n",
       "    .dataframe tbody tr th:only-of-type {\n",
       "        vertical-align: middle;\n",
       "    }\n",
       "\n",
       "    .dataframe tbody tr th {\n",
       "        vertical-align: top;\n",
       "    }\n",
       "\n",
       "    .dataframe thead th {\n",
       "        text-align: right;\n",
       "    }\n",
       "</style>\n",
       "<table border=\"1\" class=\"dataframe\">\n",
       "  <thead>\n",
       "    <tr style=\"text-align: right;\">\n",
       "      <th></th>\n",
       "      <th>PRT_ID</th>\n",
       "      <th>AREA</th>\n",
       "      <th>INT_SQFT</th>\n",
       "      <th>DIST_MAINROAD</th>\n",
       "      <th>N_BEDROOM</th>\n",
       "      <th>N_BATHROOM</th>\n",
       "      <th>N_ROOM</th>\n",
       "      <th>SALE_COND</th>\n",
       "      <th>PARK_FACIL</th>\n",
       "      <th>BUILDTYPE</th>\n",
       "      <th>UTILITY_AVAIL</th>\n",
       "      <th>STREET</th>\n",
       "      <th>MZZONE</th>\n",
       "      <th>QS_ROOMS</th>\n",
       "      <th>QS_BATHROOM</th>\n",
       "      <th>QS_BEDROOM</th>\n",
       "      <th>QS_OVERALL</th>\n",
       "      <th>COMMIS</th>\n",
       "      <th>SALES_PRICE</th>\n",
       "    </tr>\n",
       "  </thead>\n",
       "  <tbody>\n",
       "    <tr>\n",
       "      <th>0</th>\n",
       "      <td>P03210</td>\n",
       "      <td>Karapakkam</td>\n",
       "      <td>1004</td>\n",
       "      <td>131</td>\n",
       "      <td>1.0</td>\n",
       "      <td>1.0</td>\n",
       "      <td>3</td>\n",
       "      <td>AbNormal</td>\n",
       "      <td>Yes</td>\n",
       "      <td>Commercial</td>\n",
       "      <td>AllPub</td>\n",
       "      <td>Paved</td>\n",
       "      <td>A</td>\n",
       "      <td>4.0</td>\n",
       "      <td>3.9</td>\n",
       "      <td>4.9</td>\n",
       "      <td>4.330</td>\n",
       "      <td>144400</td>\n",
       "      <td>7600000</td>\n",
       "    </tr>\n",
       "    <tr>\n",
       "      <th>1</th>\n",
       "      <td>P09411</td>\n",
       "      <td>Anna Nagar</td>\n",
       "      <td>1986</td>\n",
       "      <td>26</td>\n",
       "      <td>2.0</td>\n",
       "      <td>1.0</td>\n",
       "      <td>5</td>\n",
       "      <td>AbNormal</td>\n",
       "      <td>No</td>\n",
       "      <td>Commercial</td>\n",
       "      <td>AllPub</td>\n",
       "      <td>Gravel</td>\n",
       "      <td>RH</td>\n",
       "      <td>4.9</td>\n",
       "      <td>4.2</td>\n",
       "      <td>2.5</td>\n",
       "      <td>3.765</td>\n",
       "      <td>304049</td>\n",
       "      <td>21717770</td>\n",
       "    </tr>\n",
       "    <tr>\n",
       "      <th>2</th>\n",
       "      <td>P01812</td>\n",
       "      <td>Adyar</td>\n",
       "      <td>909</td>\n",
       "      <td>70</td>\n",
       "      <td>1.0</td>\n",
       "      <td>1.0</td>\n",
       "      <td>3</td>\n",
       "      <td>AbNormal</td>\n",
       "      <td>Yes</td>\n",
       "      <td>Commercial</td>\n",
       "      <td>ELO</td>\n",
       "      <td>Gravel</td>\n",
       "      <td>RL</td>\n",
       "      <td>4.1</td>\n",
       "      <td>3.8</td>\n",
       "      <td>2.2</td>\n",
       "      <td>3.090</td>\n",
       "      <td>92114</td>\n",
       "      <td>13159200</td>\n",
       "    </tr>\n",
       "    <tr>\n",
       "      <th>3</th>\n",
       "      <td>P05346</td>\n",
       "      <td>Velachery</td>\n",
       "      <td>1855</td>\n",
       "      <td>14</td>\n",
       "      <td>3.0</td>\n",
       "      <td>2.0</td>\n",
       "      <td>5</td>\n",
       "      <td>Family</td>\n",
       "      <td>No</td>\n",
       "      <td>Others</td>\n",
       "      <td>NoSewr</td>\n",
       "      <td>Paved</td>\n",
       "      <td>I</td>\n",
       "      <td>4.7</td>\n",
       "      <td>3.9</td>\n",
       "      <td>3.6</td>\n",
       "      <td>4.010</td>\n",
       "      <td>77042</td>\n",
       "      <td>9630290</td>\n",
       "    </tr>\n",
       "    <tr>\n",
       "      <th>4</th>\n",
       "      <td>P06210</td>\n",
       "      <td>Karapakkam</td>\n",
       "      <td>1226</td>\n",
       "      <td>84</td>\n",
       "      <td>1.0</td>\n",
       "      <td>1.0</td>\n",
       "      <td>3</td>\n",
       "      <td>AbNormal</td>\n",
       "      <td>Yes</td>\n",
       "      <td>Others</td>\n",
       "      <td>AllPub</td>\n",
       "      <td>Gravel</td>\n",
       "      <td>C</td>\n",
       "      <td>3.0</td>\n",
       "      <td>2.5</td>\n",
       "      <td>4.1</td>\n",
       "      <td>3.290</td>\n",
       "      <td>74063</td>\n",
       "      <td>7406250</td>\n",
       "    </tr>\n",
       "  </tbody>\n",
       "</table>\n",
       "</div>"
      ],
      "text/plain": [
       "   PRT_ID        AREA  INT_SQFT  DIST_MAINROAD  N_BEDROOM  N_BATHROOM  N_ROOM  \\\n",
       "0  P03210  Karapakkam      1004            131        1.0         1.0       3   \n",
       "1  P09411  Anna Nagar      1986             26        2.0         1.0       5   \n",
       "2  P01812       Adyar       909             70        1.0         1.0       3   \n",
       "3  P05346   Velachery      1855             14        3.0         2.0       5   \n",
       "4  P06210  Karapakkam      1226             84        1.0         1.0       3   \n",
       "\n",
       "  SALE_COND PARK_FACIL   BUILDTYPE UTILITY_AVAIL  STREET MZZONE  QS_ROOMS  \\\n",
       "0  AbNormal        Yes  Commercial        AllPub   Paved      A       4.0   \n",
       "1  AbNormal         No  Commercial        AllPub  Gravel     RH       4.9   \n",
       "2  AbNormal        Yes  Commercial           ELO  Gravel     RL       4.1   \n",
       "3    Family         No      Others       NoSewr    Paved      I       4.7   \n",
       "4  AbNormal        Yes      Others        AllPub  Gravel      C       3.0   \n",
       "\n",
       "   QS_BATHROOM  QS_BEDROOM  QS_OVERALL  COMMIS  SALES_PRICE  \n",
       "0          3.9         4.9       4.330  144400      7600000  \n",
       "1          4.2         2.5       3.765  304049     21717770  \n",
       "2          3.8         2.2       3.090   92114     13159200  \n",
       "3          3.9         3.6       4.010   77042      9630290  \n",
       "4          2.5         4.1       3.290   74063      7406250  "
      ]
     },
     "execution_count": 8,
     "metadata": {},
     "output_type": "execute_result"
    }
   ],
   "source": [
    "df.head()"
   ]
  },
  {
   "cell_type": "code",
   "execution_count": 9,
   "metadata": {},
   "outputs": [
    {
     "data": {
      "text/html": [
       "<div>\n",
       "<style scoped>\n",
       "    .dataframe tbody tr th:only-of-type {\n",
       "        vertical-align: middle;\n",
       "    }\n",
       "\n",
       "    .dataframe tbody tr th {\n",
       "        vertical-align: top;\n",
       "    }\n",
       "\n",
       "    .dataframe thead th {\n",
       "        text-align: right;\n",
       "    }\n",
       "</style>\n",
       "<table border=\"1\" class=\"dataframe\">\n",
       "  <thead>\n",
       "    <tr style=\"text-align: right;\">\n",
       "      <th></th>\n",
       "      <th>INT_SQFT</th>\n",
       "      <th>DIST_MAINROAD</th>\n",
       "      <th>N_BEDROOM</th>\n",
       "      <th>N_BATHROOM</th>\n",
       "      <th>N_ROOM</th>\n",
       "      <th>QS_ROOMS</th>\n",
       "      <th>QS_BATHROOM</th>\n",
       "      <th>QS_BEDROOM</th>\n",
       "      <th>QS_OVERALL</th>\n",
       "      <th>COMMIS</th>\n",
       "      <th>SALES_PRICE</th>\n",
       "    </tr>\n",
       "  </thead>\n",
       "  <tbody>\n",
       "    <tr>\n",
       "      <th>count</th>\n",
       "      <td>7109.000000</td>\n",
       "      <td>7109.000000</td>\n",
       "      <td>7108.000000</td>\n",
       "      <td>7104.000000</td>\n",
       "      <td>7109.000000</td>\n",
       "      <td>7109.000000</td>\n",
       "      <td>7109.000000</td>\n",
       "      <td>7109.000000</td>\n",
       "      <td>7061.000000</td>\n",
       "      <td>7109.000000</td>\n",
       "      <td>7.109000e+03</td>\n",
       "    </tr>\n",
       "    <tr>\n",
       "      <th>mean</th>\n",
       "      <td>1382.073006</td>\n",
       "      <td>99.603179</td>\n",
       "      <td>1.637029</td>\n",
       "      <td>1.213260</td>\n",
       "      <td>3.688704</td>\n",
       "      <td>3.517471</td>\n",
       "      <td>3.507244</td>\n",
       "      <td>3.485300</td>\n",
       "      <td>3.503254</td>\n",
       "      <td>141005.726544</td>\n",
       "      <td>1.089491e+07</td>\n",
       "    </tr>\n",
       "    <tr>\n",
       "      <th>std</th>\n",
       "      <td>457.410902</td>\n",
       "      <td>57.403110</td>\n",
       "      <td>0.802902</td>\n",
       "      <td>0.409639</td>\n",
       "      <td>1.019099</td>\n",
       "      <td>0.891972</td>\n",
       "      <td>0.897834</td>\n",
       "      <td>0.887266</td>\n",
       "      <td>0.527223</td>\n",
       "      <td>78768.093718</td>\n",
       "      <td>3.768603e+06</td>\n",
       "    </tr>\n",
       "    <tr>\n",
       "      <th>min</th>\n",
       "      <td>500.000000</td>\n",
       "      <td>0.000000</td>\n",
       "      <td>1.000000</td>\n",
       "      <td>1.000000</td>\n",
       "      <td>2.000000</td>\n",
       "      <td>2.000000</td>\n",
       "      <td>2.000000</td>\n",
       "      <td>2.000000</td>\n",
       "      <td>2.000000</td>\n",
       "      <td>5055.000000</td>\n",
       "      <td>2.156875e+06</td>\n",
       "    </tr>\n",
       "    <tr>\n",
       "      <th>25%</th>\n",
       "      <td>993.000000</td>\n",
       "      <td>50.000000</td>\n",
       "      <td>1.000000</td>\n",
       "      <td>1.000000</td>\n",
       "      <td>3.000000</td>\n",
       "      <td>2.700000</td>\n",
       "      <td>2.700000</td>\n",
       "      <td>2.700000</td>\n",
       "      <td>3.130000</td>\n",
       "      <td>84219.000000</td>\n",
       "      <td>8.272100e+06</td>\n",
       "    </tr>\n",
       "    <tr>\n",
       "      <th>50%</th>\n",
       "      <td>1373.000000</td>\n",
       "      <td>99.000000</td>\n",
       "      <td>1.000000</td>\n",
       "      <td>1.000000</td>\n",
       "      <td>4.000000</td>\n",
       "      <td>3.500000</td>\n",
       "      <td>3.500000</td>\n",
       "      <td>3.500000</td>\n",
       "      <td>3.500000</td>\n",
       "      <td>127628.000000</td>\n",
       "      <td>1.033505e+07</td>\n",
       "    </tr>\n",
       "    <tr>\n",
       "      <th>75%</th>\n",
       "      <td>1744.000000</td>\n",
       "      <td>148.000000</td>\n",
       "      <td>2.000000</td>\n",
       "      <td>1.000000</td>\n",
       "      <td>4.000000</td>\n",
       "      <td>4.300000</td>\n",
       "      <td>4.300000</td>\n",
       "      <td>4.300000</td>\n",
       "      <td>3.890000</td>\n",
       "      <td>184506.000000</td>\n",
       "      <td>1.299390e+07</td>\n",
       "    </tr>\n",
       "    <tr>\n",
       "      <th>max</th>\n",
       "      <td>2500.000000</td>\n",
       "      <td>200.000000</td>\n",
       "      <td>4.000000</td>\n",
       "      <td>2.000000</td>\n",
       "      <td>6.000000</td>\n",
       "      <td>5.000000</td>\n",
       "      <td>5.000000</td>\n",
       "      <td>5.000000</td>\n",
       "      <td>4.970000</td>\n",
       "      <td>495405.000000</td>\n",
       "      <td>2.366734e+07</td>\n",
       "    </tr>\n",
       "  </tbody>\n",
       "</table>\n",
       "</div>"
      ],
      "text/plain": [
       "          INT_SQFT  DIST_MAINROAD    N_BEDROOM   N_BATHROOM       N_ROOM  \\\n",
       "count  7109.000000    7109.000000  7108.000000  7104.000000  7109.000000   \n",
       "mean   1382.073006      99.603179     1.637029     1.213260     3.688704   \n",
       "std     457.410902      57.403110     0.802902     0.409639     1.019099   \n",
       "min     500.000000       0.000000     1.000000     1.000000     2.000000   \n",
       "25%     993.000000      50.000000     1.000000     1.000000     3.000000   \n",
       "50%    1373.000000      99.000000     1.000000     1.000000     4.000000   \n",
       "75%    1744.000000     148.000000     2.000000     1.000000     4.000000   \n",
       "max    2500.000000     200.000000     4.000000     2.000000     6.000000   \n",
       "\n",
       "          QS_ROOMS  QS_BATHROOM   QS_BEDROOM   QS_OVERALL         COMMIS  \\\n",
       "count  7109.000000  7109.000000  7109.000000  7061.000000    7109.000000   \n",
       "mean      3.517471     3.507244     3.485300     3.503254  141005.726544   \n",
       "std       0.891972     0.897834     0.887266     0.527223   78768.093718   \n",
       "min       2.000000     2.000000     2.000000     2.000000    5055.000000   \n",
       "25%       2.700000     2.700000     2.700000     3.130000   84219.000000   \n",
       "50%       3.500000     3.500000     3.500000     3.500000  127628.000000   \n",
       "75%       4.300000     4.300000     4.300000     3.890000  184506.000000   \n",
       "max       5.000000     5.000000     5.000000     4.970000  495405.000000   \n",
       "\n",
       "        SALES_PRICE  \n",
       "count  7.109000e+03  \n",
       "mean   1.089491e+07  \n",
       "std    3.768603e+06  \n",
       "min    2.156875e+06  \n",
       "25%    8.272100e+06  \n",
       "50%    1.033505e+07  \n",
       "75%    1.299390e+07  \n",
       "max    2.366734e+07  "
      ]
     },
     "execution_count": 9,
     "metadata": {},
     "output_type": "execute_result"
    }
   ],
   "source": [
    "df.describe()"
   ]
  },
  {
   "cell_type": "code",
   "execution_count": 10,
   "metadata": {},
   "outputs": [
    {
     "data": {
      "text/html": [
       "<div>\n",
       "<style scoped>\n",
       "    .dataframe tbody tr th:only-of-type {\n",
       "        vertical-align: middle;\n",
       "    }\n",
       "\n",
       "    .dataframe tbody tr th {\n",
       "        vertical-align: top;\n",
       "    }\n",
       "\n",
       "    .dataframe thead th {\n",
       "        text-align: right;\n",
       "    }\n",
       "</style>\n",
       "<table border=\"1\" class=\"dataframe\">\n",
       "  <thead>\n",
       "    <tr style=\"text-align: right;\">\n",
       "      <th></th>\n",
       "      <th>PRT_ID</th>\n",
       "      <th>AREA</th>\n",
       "      <th>INT_SQFT</th>\n",
       "      <th>DIST_MAINROAD</th>\n",
       "      <th>N_BEDROOM</th>\n",
       "      <th>N_BATHROOM</th>\n",
       "      <th>N_ROOM</th>\n",
       "      <th>SALE_COND</th>\n",
       "      <th>PARK_FACIL</th>\n",
       "      <th>BUILDTYPE</th>\n",
       "      <th>UTILITY_AVAIL</th>\n",
       "      <th>STREET</th>\n",
       "      <th>MZZONE</th>\n",
       "      <th>QS_ROOMS</th>\n",
       "      <th>QS_BATHROOM</th>\n",
       "      <th>QS_BEDROOM</th>\n",
       "      <th>QS_OVERALL</th>\n",
       "      <th>COMMIS</th>\n",
       "      <th>SALES_PRICE</th>\n",
       "    </tr>\n",
       "  </thead>\n",
       "  <tbody>\n",
       "    <tr>\n",
       "      <th>count</th>\n",
       "      <td>7109</td>\n",
       "      <td>7109</td>\n",
       "      <td>7109.000000</td>\n",
       "      <td>7109.000000</td>\n",
       "      <td>7108.000000</td>\n",
       "      <td>7104.000000</td>\n",
       "      <td>7109.000000</td>\n",
       "      <td>7109</td>\n",
       "      <td>7109</td>\n",
       "      <td>7109</td>\n",
       "      <td>7109</td>\n",
       "      <td>7109</td>\n",
       "      <td>7109</td>\n",
       "      <td>7109.000000</td>\n",
       "      <td>7109.000000</td>\n",
       "      <td>7109.000000</td>\n",
       "      <td>7061.000000</td>\n",
       "      <td>7109.000000</td>\n",
       "      <td>7.109000e+03</td>\n",
       "    </tr>\n",
       "    <tr>\n",
       "      <th>unique</th>\n",
       "      <td>7109</td>\n",
       "      <td>17</td>\n",
       "      <td>NaN</td>\n",
       "      <td>NaN</td>\n",
       "      <td>NaN</td>\n",
       "      <td>NaN</td>\n",
       "      <td>NaN</td>\n",
       "      <td>9</td>\n",
       "      <td>3</td>\n",
       "      <td>5</td>\n",
       "      <td>5</td>\n",
       "      <td>5</td>\n",
       "      <td>6</td>\n",
       "      <td>NaN</td>\n",
       "      <td>NaN</td>\n",
       "      <td>NaN</td>\n",
       "      <td>NaN</td>\n",
       "      <td>NaN</td>\n",
       "      <td>NaN</td>\n",
       "    </tr>\n",
       "    <tr>\n",
       "      <th>top</th>\n",
       "      <td>P00860</td>\n",
       "      <td>Chrompet</td>\n",
       "      <td>NaN</td>\n",
       "      <td>NaN</td>\n",
       "      <td>NaN</td>\n",
       "      <td>NaN</td>\n",
       "      <td>NaN</td>\n",
       "      <td>AdjLand</td>\n",
       "      <td>Yes</td>\n",
       "      <td>House</td>\n",
       "      <td>AllPub</td>\n",
       "      <td>Paved</td>\n",
       "      <td>RL</td>\n",
       "      <td>NaN</td>\n",
       "      <td>NaN</td>\n",
       "      <td>NaN</td>\n",
       "      <td>NaN</td>\n",
       "      <td>NaN</td>\n",
       "      <td>NaN</td>\n",
       "    </tr>\n",
       "    <tr>\n",
       "      <th>freq</th>\n",
       "      <td>1</td>\n",
       "      <td>1681</td>\n",
       "      <td>NaN</td>\n",
       "      <td>NaN</td>\n",
       "      <td>NaN</td>\n",
       "      <td>NaN</td>\n",
       "      <td>NaN</td>\n",
       "      <td>1433</td>\n",
       "      <td>3587</td>\n",
       "      <td>2444</td>\n",
       "      <td>1886</td>\n",
       "      <td>2560</td>\n",
       "      <td>1858</td>\n",
       "      <td>NaN</td>\n",
       "      <td>NaN</td>\n",
       "      <td>NaN</td>\n",
       "      <td>NaN</td>\n",
       "      <td>NaN</td>\n",
       "      <td>NaN</td>\n",
       "    </tr>\n",
       "    <tr>\n",
       "      <th>mean</th>\n",
       "      <td>NaN</td>\n",
       "      <td>NaN</td>\n",
       "      <td>1382.073006</td>\n",
       "      <td>99.603179</td>\n",
       "      <td>1.637029</td>\n",
       "      <td>1.213260</td>\n",
       "      <td>3.688704</td>\n",
       "      <td>NaN</td>\n",
       "      <td>NaN</td>\n",
       "      <td>NaN</td>\n",
       "      <td>NaN</td>\n",
       "      <td>NaN</td>\n",
       "      <td>NaN</td>\n",
       "      <td>3.517471</td>\n",
       "      <td>3.507244</td>\n",
       "      <td>3.485300</td>\n",
       "      <td>3.503254</td>\n",
       "      <td>141005.726544</td>\n",
       "      <td>1.089491e+07</td>\n",
       "    </tr>\n",
       "    <tr>\n",
       "      <th>std</th>\n",
       "      <td>NaN</td>\n",
       "      <td>NaN</td>\n",
       "      <td>457.410902</td>\n",
       "      <td>57.403110</td>\n",
       "      <td>0.802902</td>\n",
       "      <td>0.409639</td>\n",
       "      <td>1.019099</td>\n",
       "      <td>NaN</td>\n",
       "      <td>NaN</td>\n",
       "      <td>NaN</td>\n",
       "      <td>NaN</td>\n",
       "      <td>NaN</td>\n",
       "      <td>NaN</td>\n",
       "      <td>0.891972</td>\n",
       "      <td>0.897834</td>\n",
       "      <td>0.887266</td>\n",
       "      <td>0.527223</td>\n",
       "      <td>78768.093718</td>\n",
       "      <td>3.768603e+06</td>\n",
       "    </tr>\n",
       "    <tr>\n",
       "      <th>min</th>\n",
       "      <td>NaN</td>\n",
       "      <td>NaN</td>\n",
       "      <td>500.000000</td>\n",
       "      <td>0.000000</td>\n",
       "      <td>1.000000</td>\n",
       "      <td>1.000000</td>\n",
       "      <td>2.000000</td>\n",
       "      <td>NaN</td>\n",
       "      <td>NaN</td>\n",
       "      <td>NaN</td>\n",
       "      <td>NaN</td>\n",
       "      <td>NaN</td>\n",
       "      <td>NaN</td>\n",
       "      <td>2.000000</td>\n",
       "      <td>2.000000</td>\n",
       "      <td>2.000000</td>\n",
       "      <td>2.000000</td>\n",
       "      <td>5055.000000</td>\n",
       "      <td>2.156875e+06</td>\n",
       "    </tr>\n",
       "    <tr>\n",
       "      <th>25%</th>\n",
       "      <td>NaN</td>\n",
       "      <td>NaN</td>\n",
       "      <td>993.000000</td>\n",
       "      <td>50.000000</td>\n",
       "      <td>1.000000</td>\n",
       "      <td>1.000000</td>\n",
       "      <td>3.000000</td>\n",
       "      <td>NaN</td>\n",
       "      <td>NaN</td>\n",
       "      <td>NaN</td>\n",
       "      <td>NaN</td>\n",
       "      <td>NaN</td>\n",
       "      <td>NaN</td>\n",
       "      <td>2.700000</td>\n",
       "      <td>2.700000</td>\n",
       "      <td>2.700000</td>\n",
       "      <td>3.130000</td>\n",
       "      <td>84219.000000</td>\n",
       "      <td>8.272100e+06</td>\n",
       "    </tr>\n",
       "    <tr>\n",
       "      <th>50%</th>\n",
       "      <td>NaN</td>\n",
       "      <td>NaN</td>\n",
       "      <td>1373.000000</td>\n",
       "      <td>99.000000</td>\n",
       "      <td>1.000000</td>\n",
       "      <td>1.000000</td>\n",
       "      <td>4.000000</td>\n",
       "      <td>NaN</td>\n",
       "      <td>NaN</td>\n",
       "      <td>NaN</td>\n",
       "      <td>NaN</td>\n",
       "      <td>NaN</td>\n",
       "      <td>NaN</td>\n",
       "      <td>3.500000</td>\n",
       "      <td>3.500000</td>\n",
       "      <td>3.500000</td>\n",
       "      <td>3.500000</td>\n",
       "      <td>127628.000000</td>\n",
       "      <td>1.033505e+07</td>\n",
       "    </tr>\n",
       "    <tr>\n",
       "      <th>75%</th>\n",
       "      <td>NaN</td>\n",
       "      <td>NaN</td>\n",
       "      <td>1744.000000</td>\n",
       "      <td>148.000000</td>\n",
       "      <td>2.000000</td>\n",
       "      <td>1.000000</td>\n",
       "      <td>4.000000</td>\n",
       "      <td>NaN</td>\n",
       "      <td>NaN</td>\n",
       "      <td>NaN</td>\n",
       "      <td>NaN</td>\n",
       "      <td>NaN</td>\n",
       "      <td>NaN</td>\n",
       "      <td>4.300000</td>\n",
       "      <td>4.300000</td>\n",
       "      <td>4.300000</td>\n",
       "      <td>3.890000</td>\n",
       "      <td>184506.000000</td>\n",
       "      <td>1.299390e+07</td>\n",
       "    </tr>\n",
       "    <tr>\n",
       "      <th>max</th>\n",
       "      <td>NaN</td>\n",
       "      <td>NaN</td>\n",
       "      <td>2500.000000</td>\n",
       "      <td>200.000000</td>\n",
       "      <td>4.000000</td>\n",
       "      <td>2.000000</td>\n",
       "      <td>6.000000</td>\n",
       "      <td>NaN</td>\n",
       "      <td>NaN</td>\n",
       "      <td>NaN</td>\n",
       "      <td>NaN</td>\n",
       "      <td>NaN</td>\n",
       "      <td>NaN</td>\n",
       "      <td>5.000000</td>\n",
       "      <td>5.000000</td>\n",
       "      <td>5.000000</td>\n",
       "      <td>4.970000</td>\n",
       "      <td>495405.000000</td>\n",
       "      <td>2.366734e+07</td>\n",
       "    </tr>\n",
       "  </tbody>\n",
       "</table>\n",
       "</div>"
      ],
      "text/plain": [
       "        PRT_ID      AREA     INT_SQFT  DIST_MAINROAD    N_BEDROOM  \\\n",
       "count     7109      7109  7109.000000    7109.000000  7108.000000   \n",
       "unique    7109        17          NaN            NaN          NaN   \n",
       "top     P00860  Chrompet          NaN            NaN          NaN   \n",
       "freq         1      1681          NaN            NaN          NaN   \n",
       "mean       NaN       NaN  1382.073006      99.603179     1.637029   \n",
       "std        NaN       NaN   457.410902      57.403110     0.802902   \n",
       "min        NaN       NaN   500.000000       0.000000     1.000000   \n",
       "25%        NaN       NaN   993.000000      50.000000     1.000000   \n",
       "50%        NaN       NaN  1373.000000      99.000000     1.000000   \n",
       "75%        NaN       NaN  1744.000000     148.000000     2.000000   \n",
       "max        NaN       NaN  2500.000000     200.000000     4.000000   \n",
       "\n",
       "         N_BATHROOM       N_ROOM SALE_COND PARK_FACIL BUILDTYPE UTILITY_AVAIL  \\\n",
       "count   7104.000000  7109.000000      7109       7109      7109          7109   \n",
       "unique          NaN          NaN         9          3         5             5   \n",
       "top             NaN          NaN   AdjLand        Yes     House        AllPub   \n",
       "freq            NaN          NaN      1433       3587      2444          1886   \n",
       "mean       1.213260     3.688704       NaN        NaN       NaN           NaN   \n",
       "std        0.409639     1.019099       NaN        NaN       NaN           NaN   \n",
       "min        1.000000     2.000000       NaN        NaN       NaN           NaN   \n",
       "25%        1.000000     3.000000       NaN        NaN       NaN           NaN   \n",
       "50%        1.000000     4.000000       NaN        NaN       NaN           NaN   \n",
       "75%        1.000000     4.000000       NaN        NaN       NaN           NaN   \n",
       "max        2.000000     6.000000       NaN        NaN       NaN           NaN   \n",
       "\n",
       "       STREET MZZONE     QS_ROOMS  QS_BATHROOM   QS_BEDROOM   QS_OVERALL  \\\n",
       "count    7109   7109  7109.000000  7109.000000  7109.000000  7061.000000   \n",
       "unique      5      6          NaN          NaN          NaN          NaN   \n",
       "top     Paved     RL          NaN          NaN          NaN          NaN   \n",
       "freq     2560   1858          NaN          NaN          NaN          NaN   \n",
       "mean      NaN    NaN     3.517471     3.507244     3.485300     3.503254   \n",
       "std       NaN    NaN     0.891972     0.897834     0.887266     0.527223   \n",
       "min       NaN    NaN     2.000000     2.000000     2.000000     2.000000   \n",
       "25%       NaN    NaN     2.700000     2.700000     2.700000     3.130000   \n",
       "50%       NaN    NaN     3.500000     3.500000     3.500000     3.500000   \n",
       "75%       NaN    NaN     4.300000     4.300000     4.300000     3.890000   \n",
       "max       NaN    NaN     5.000000     5.000000     5.000000     4.970000   \n",
       "\n",
       "               COMMIS   SALES_PRICE  \n",
       "count     7109.000000  7.109000e+03  \n",
       "unique            NaN           NaN  \n",
       "top               NaN           NaN  \n",
       "freq              NaN           NaN  \n",
       "mean    141005.726544  1.089491e+07  \n",
       "std      78768.093718  3.768603e+06  \n",
       "min       5055.000000  2.156875e+06  \n",
       "25%      84219.000000  8.272100e+06  \n",
       "50%     127628.000000  1.033505e+07  \n",
       "75%     184506.000000  1.299390e+07  \n",
       "max     495405.000000  2.366734e+07  "
      ]
     },
     "execution_count": 10,
     "metadata": {},
     "output_type": "execute_result"
    }
   ],
   "source": [
    "df.describe(include = 'all')"
   ]
  },
  {
   "cell_type": "code",
   "execution_count": 11,
   "metadata": {},
   "outputs": [
    {
     "data": {
      "text/plain": [
       "PRT_ID            0\n",
       "AREA              0\n",
       "INT_SQFT          0\n",
       "DIST_MAINROAD     0\n",
       "N_BEDROOM         1\n",
       "N_BATHROOM        5\n",
       "N_ROOM            0\n",
       "SALE_COND         0\n",
       "PARK_FACIL        0\n",
       "BUILDTYPE         0\n",
       "UTILITY_AVAIL     0\n",
       "STREET            0\n",
       "MZZONE            0\n",
       "QS_ROOMS          0\n",
       "QS_BATHROOM       0\n",
       "QS_BEDROOM        0\n",
       "QS_OVERALL       48\n",
       "COMMIS            0\n",
       "SALES_PRICE       0\n",
       "dtype: int64"
      ]
     },
     "execution_count": 11,
     "metadata": {},
     "output_type": "execute_result"
    }
   ],
   "source": [
    "df.isnull().sum()"
   ]
  },
  {
   "cell_type": "code",
   "execution_count": 12,
   "metadata": {},
   "outputs": [
    {
     "data": {
      "text/plain": [
       "PRT_ID            object\n",
       "AREA              object\n",
       "INT_SQFT           int64\n",
       "DIST_MAINROAD      int64\n",
       "N_BEDROOM        float64\n",
       "N_BATHROOM       float64\n",
       "N_ROOM             int64\n",
       "SALE_COND         object\n",
       "PARK_FACIL        object\n",
       "BUILDTYPE         object\n",
       "UTILITY_AVAIL     object\n",
       "STREET            object\n",
       "MZZONE            object\n",
       "QS_ROOMS         float64\n",
       "QS_BATHROOM      float64\n",
       "QS_BEDROOM       float64\n",
       "QS_OVERALL       float64\n",
       "COMMIS             int64\n",
       "SALES_PRICE        int64\n",
       "dtype: object"
      ]
     },
     "execution_count": 12,
     "metadata": {},
     "output_type": "execute_result"
    }
   ],
   "source": [
    "df.dtypes"
   ]
  },
  {
   "cell_type": "code",
   "execution_count": 15,
   "metadata": {},
   "outputs": [],
   "source": [
    "temp = pd.DataFrame(index = df.columns)\n",
    "temp['data_type'] = df.dtypes\n",
    "temp['null_count'] = df.isnull().sum()\n",
    "temp['unique_count'] = df.nunique()"
   ]
  },
  {
   "cell_type": "code",
   "execution_count": 16,
   "metadata": {},
   "outputs": [
    {
     "data": {
      "text/html": [
       "<div>\n",
       "<style scoped>\n",
       "    .dataframe tbody tr th:only-of-type {\n",
       "        vertical-align: middle;\n",
       "    }\n",
       "\n",
       "    .dataframe tbody tr th {\n",
       "        vertical-align: top;\n",
       "    }\n",
       "\n",
       "    .dataframe thead th {\n",
       "        text-align: right;\n",
       "    }\n",
       "</style>\n",
       "<table border=\"1\" class=\"dataframe\">\n",
       "  <thead>\n",
       "    <tr style=\"text-align: right;\">\n",
       "      <th></th>\n",
       "      <th>data_type</th>\n",
       "      <th>null_count</th>\n",
       "      <th>unique_count</th>\n",
       "    </tr>\n",
       "  </thead>\n",
       "  <tbody>\n",
       "    <tr>\n",
       "      <th>PRT_ID</th>\n",
       "      <td>object</td>\n",
       "      <td>0</td>\n",
       "      <td>7109</td>\n",
       "    </tr>\n",
       "    <tr>\n",
       "      <th>AREA</th>\n",
       "      <td>object</td>\n",
       "      <td>0</td>\n",
       "      <td>17</td>\n",
       "    </tr>\n",
       "    <tr>\n",
       "      <th>INT_SQFT</th>\n",
       "      <td>int64</td>\n",
       "      <td>0</td>\n",
       "      <td>1699</td>\n",
       "    </tr>\n",
       "    <tr>\n",
       "      <th>DIST_MAINROAD</th>\n",
       "      <td>int64</td>\n",
       "      <td>0</td>\n",
       "      <td>201</td>\n",
       "    </tr>\n",
       "    <tr>\n",
       "      <th>N_BEDROOM</th>\n",
       "      <td>float64</td>\n",
       "      <td>1</td>\n",
       "      <td>4</td>\n",
       "    </tr>\n",
       "    <tr>\n",
       "      <th>N_BATHROOM</th>\n",
       "      <td>float64</td>\n",
       "      <td>5</td>\n",
       "      <td>2</td>\n",
       "    </tr>\n",
       "    <tr>\n",
       "      <th>N_ROOM</th>\n",
       "      <td>int64</td>\n",
       "      <td>0</td>\n",
       "      <td>5</td>\n",
       "    </tr>\n",
       "    <tr>\n",
       "      <th>SALE_COND</th>\n",
       "      <td>object</td>\n",
       "      <td>0</td>\n",
       "      <td>9</td>\n",
       "    </tr>\n",
       "    <tr>\n",
       "      <th>PARK_FACIL</th>\n",
       "      <td>object</td>\n",
       "      <td>0</td>\n",
       "      <td>3</td>\n",
       "    </tr>\n",
       "    <tr>\n",
       "      <th>BUILDTYPE</th>\n",
       "      <td>object</td>\n",
       "      <td>0</td>\n",
       "      <td>5</td>\n",
       "    </tr>\n",
       "    <tr>\n",
       "      <th>UTILITY_AVAIL</th>\n",
       "      <td>object</td>\n",
       "      <td>0</td>\n",
       "      <td>5</td>\n",
       "    </tr>\n",
       "    <tr>\n",
       "      <th>STREET</th>\n",
       "      <td>object</td>\n",
       "      <td>0</td>\n",
       "      <td>5</td>\n",
       "    </tr>\n",
       "    <tr>\n",
       "      <th>MZZONE</th>\n",
       "      <td>object</td>\n",
       "      <td>0</td>\n",
       "      <td>6</td>\n",
       "    </tr>\n",
       "    <tr>\n",
       "      <th>QS_ROOMS</th>\n",
       "      <td>float64</td>\n",
       "      <td>0</td>\n",
       "      <td>31</td>\n",
       "    </tr>\n",
       "    <tr>\n",
       "      <th>QS_BATHROOM</th>\n",
       "      <td>float64</td>\n",
       "      <td>0</td>\n",
       "      <td>31</td>\n",
       "    </tr>\n",
       "    <tr>\n",
       "      <th>QS_BEDROOM</th>\n",
       "      <td>float64</td>\n",
       "      <td>0</td>\n",
       "      <td>31</td>\n",
       "    </tr>\n",
       "    <tr>\n",
       "      <th>QS_OVERALL</th>\n",
       "      <td>float64</td>\n",
       "      <td>48</td>\n",
       "      <td>479</td>\n",
       "    </tr>\n",
       "    <tr>\n",
       "      <th>COMMIS</th>\n",
       "      <td>int64</td>\n",
       "      <td>0</td>\n",
       "      <td>7011</td>\n",
       "    </tr>\n",
       "    <tr>\n",
       "      <th>SALES_PRICE</th>\n",
       "      <td>int64</td>\n",
       "      <td>0</td>\n",
       "      <td>7057</td>\n",
       "    </tr>\n",
       "  </tbody>\n",
       "</table>\n",
       "</div>"
      ],
      "text/plain": [
       "              data_type  null_count  unique_count\n",
       "PRT_ID           object           0          7109\n",
       "AREA             object           0            17\n",
       "INT_SQFT          int64           0          1699\n",
       "DIST_MAINROAD     int64           0           201\n",
       "N_BEDROOM       float64           1             4\n",
       "N_BATHROOM      float64           5             2\n",
       "N_ROOM            int64           0             5\n",
       "SALE_COND        object           0             9\n",
       "PARK_FACIL       object           0             3\n",
       "BUILDTYPE        object           0             5\n",
       "UTILITY_AVAIL    object           0             5\n",
       "STREET           object           0             5\n",
       "MZZONE           object           0             6\n",
       "QS_ROOMS        float64           0            31\n",
       "QS_BATHROOM     float64           0            31\n",
       "QS_BEDROOM      float64           0            31\n",
       "QS_OVERALL      float64          48           479\n",
       "COMMIS            int64           0          7011\n",
       "SALES_PRICE       int64           0          7057"
      ]
     },
     "execution_count": 16,
     "metadata": {},
     "output_type": "execute_result"
    }
   ],
   "source": [
    "temp"
   ]
  },
  {
   "cell_type": "code",
   "execution_count": 17,
   "metadata": {},
   "outputs": [
    {
     "data": {
      "text/plain": [
       "<matplotlib.axes._subplots.AxesSubplot at 0x27a41fd66d8>"
      ]
     },
     "execution_count": 17,
     "metadata": {},
     "output_type": "execute_result"
    },
    {
     "data": {
      "image/png": "[encoded data removed]",
      "text/plain": [
       "<Figure size 432x288 with 1 Axes>"
      ]
     },
     "metadata": {
      "needs_background": "light"
     },
     "output_type": "display_data"
    }
   ],
   "source": [
    "df['SALES_PRICE'].plot.hist(bins = 50)"
   ]
  },
  {
   "cell_type": "code",
   "execution_count": 18,
   "metadata": {},
   "outputs": [
    {
     "data": {
      "text/plain": [
       "<matplotlib.axes._subplots.AxesSubplot at 0x27a42a1a7b8>"
      ]
     },
     "execution_count": 18,
     "metadata": {},
     "output_type": "execute_result"
    },
    {
     "data": {
      "image/png": "[encoded data removed]",
      "text/plain": [
       "<Figure size 432x288 with 1 Axes>"
      ]
     },
     "metadata": {
      "needs_background": "light"
     },
     "output_type": "display_data"
    }
   ],
   "source": [
    "df['SALES_PRICE'].loc[df['SALES_PRICE'] < 18000000].plot.hist(bins = 50)"
   ]
  },
  {
   "cell_type": "code",
   "execution_count": 20,
   "metadata": {},
   "outputs": [
    {
     "data": {
      "text/plain": [
       "Text(0.5, 0, 'Area in sq. feet')"
      ]
     },
     "execution_count": 20,
     "metadata": {},
     "output_type": "execute_result"
    },
    {
     "data": {
      "image/png": "[encoded data removed]",
      "text/plain": [
       "<Figure size 432x288 with 1 Axes>"
      ]
     },
     "metadata": {
      "needs_background": "light"
     },
     "output_type": "display_data"
    }
   ],
   "source": [
    "df['INT_SQFT'].plot.hist(bins = 50)\n",
    "plt.xlabel('Area in sq. feet', fontsize=12)"
   ]
  },
  {
   "cell_type": "code",
   "execution_count": 21,
   "metadata": {},
   "outputs": [
    {
     "data": {
      "text/plain": [
       "1.0    3795\n",
       "2.0    2352\n",
       "3.0     707\n",
       "4.0     254\n",
       "Name: N_BEDROOM, dtype: int64"
      ]
     },
     "execution_count": 21,
     "metadata": {},
     "output_type": "execute_result"
    }
   ],
   "source": [
    "df['N_BEDROOM'].value_counts()"
   ]
  },
  {
   "cell_type": "code",
   "execution_count": 22,
   "metadata": {},
   "outputs": [
    {
     "data": {
      "text/plain": [
       "1.0    0.533830\n",
       "2.0    0.330848\n",
       "3.0    0.099451\n",
       "4.0    0.035729\n",
       "Name: N_BEDROOM, dtype: float64"
      ]
     },
     "execution_count": 22,
     "metadata": {},
     "output_type": "execute_result"
    }
   ],
   "source": [
    "df['N_BEDROOM'].value_counts()/len(df)"
   ]
  },
  {
   "cell_type": "code",
   "execution_count": 23,
   "metadata": {},
   "outputs": [
    {
     "data": {
      "text/plain": [
       "4    2563\n",
       "3    2125\n",
       "5    1246\n",
       "2     921\n",
       "6     254\n",
       "Name: N_ROOM, dtype: int64"
      ]
     },
     "execution_count": 23,
     "metadata": {},
     "output_type": "execute_result"
    }
   ],
   "source": [
    "df['N_ROOM'].value_counts()"
   ]
  },
  {
   "cell_type": "code",
   "execution_count": 24,
   "metadata": {},
   "outputs": [
    {
     "data": {
      "text/plain": [
       "1.0    0.786187\n",
       "2.0    0.213110\n",
       "Name: N_BATHROOM, dtype: float64"
      ]
     },
     "execution_count": 24,
     "metadata": {},
     "output_type": "execute_result"
    }
   ],
   "source": [
    "df['N_BATHROOM'].value_counts()/len(df)"
   ]
  },
  {
   "cell_type": "code",
   "execution_count": 26,
   "metadata": {},
   "outputs": [
    {
     "data": {
      "text/plain": [
       "<matplotlib.axes._subplots.AxesSubplot at 0x27a43e7c400>"
      ]
     },
     "execution_count": 26,
     "metadata": {},
     "output_type": "execute_result"
    },
    {
     "data": {
      "image/png": "[encoded data removed]",
      "text/plain": [
       "<Figure size 432x288 with 1 Axes>"
      ]
     },
     "metadata": {
      "needs_background": "light"
     },
     "output_type": "display_data"
    }
   ],
   "source": [
    "df['N_BATHROOM'].value_counts().plot(kind = 'bar')\n",
    " "
   ]
  },
  {
   "cell_type": "code",
   "execution_count": 27,
   "metadata": {},
   "outputs": [
    {
     "data": {
      "text/plain": [
       "<matplotlib.axes._subplots.AxesSubplot at 0x27a43eb4898>"
      ]
     },
     "execution_count": 27,
     "metadata": {},
     "output_type": "execute_result"
    },
    {
     "data": {
      "image/png": "[encoded data removed]",
      "text/plain": [
       "<Figure size 432x288 with 1 Axes>"
      ]
     },
     "metadata": {
      "needs_background": "light"
     },
     "output_type": "display_data"
    }
   ],
   "source": [
    "df['AREA'].value_counts().plot(kind = 'bar')\n",
    " "
   ]
  },
  {
   "cell_type": "code",
   "execution_count": 28,
   "metadata": {},
   "outputs": [
    {
     "data": {
      "text/plain": [
       "<matplotlib.axes._subplots.AxesSubplot at 0x27a43e69048>"
      ]
     },
     "execution_count": 28,
     "metadata": {},
     "output_type": "execute_result"
    },
    {
     "data": {
      "image/png": "[encoded data removed]",
      "text/plain": [
       "<Figure size 432x288 with 1 Axes>"
      ]
     },
     "metadata": {
      "needs_background": "light"
     },
     "output_type": "display_data"
    }
   ],
   "source": [
    "df['PARK_FACIL'].value_counts().plot(kind = 'bar')\n",
    " "
   ]
  },
  {
   "cell_type": "code",
   "execution_count": null,
   "metadata": {},
   "outputs": [],
   "source": []
  }
 ],
 "metadata": {
  "kernelspec": {
   "display_name": "Python 3",
   "language": "python",
   "name": "python3"
  },
  "language_info": {
   "codemirror_mode": {
    "name": "ipython",
    "version": 3
   },
   "file_extension": ".py",
   "mimetype": "text/x-python",
   "name": "python",
   "nbconvert_exporter": "python",
   "pygments_lexer": "ipython3",
   "version": "3.7.3"
  }
 },
 "nbformat": 4,
 "nbformat_minor": 2
}
